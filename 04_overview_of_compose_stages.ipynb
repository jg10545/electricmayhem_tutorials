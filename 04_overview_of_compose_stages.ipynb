{
 "cells": [
  {
   "cell_type": "markdown",
   "id": "73890ef6-059c-4294-9d35-d79211a0000a",
   "metadata": {},
   "source": [
    "# Tutorial 04: overview of **compose** stages\n",
    "\n",
    "The main thing to know about in this section is the `em.KorniaAugmentationPipeline` class, which you can use to add differentiable augmentations to your implanted images. The `kornia` library has dozens of augmentations implemented, so this is a flexible tool for making sure that during training and evaluation you're covering the range of conditions you expect to see in real life."
   ]
  },
  {
   "cell_type": "code",
   "execution_count": null,
   "id": "6937a30d-17dd-4e50-bdaa-27ee9b68693b",
   "metadata": {},
   "outputs": [],
   "source": [
    "import pandas as pd\n",
    "from PIL import Image\n",
    "import electricmayhem.whitebox as em"
   ]
  },
  {
   "cell_type": "markdown",
   "id": "44a7d131-c641-416a-b3d4-9627d234ec75",
   "metadata": {},
   "source": [
    "Load a test image..."
   ]
  },
  {
   "cell_type": "code",
   "execution_count": null,
   "id": "cf4132e5-11b3-422a-95fe-a51f7fdd7dc0",
   "metadata": {},
   "outputs": [],
   "source": [
    "#flower = em.load_to_tensor(Image.open(\"data/flower2.png\").resize((128,92)))\n",
    "flower = em.load_to_tensor(\"data/flower2.png\")\n",
    "em.plot(flower)"
   ]
  },
  {
   "cell_type": "markdown",
   "id": "6a05069d-208a-4a6f-a1d2-88276f4ae4bd",
   "metadata": {},
   "source": [
    "## `em.KorniaAugmentationPipeline`\n",
    "\n",
    "This is a lightweight wrapper around the `kornia.augmentation` module- define a dictionary of the augmentations you'd like to apply, where each key is the augmentation name and each corresponding value is a dictionary of keywords to initialize it. So if you want to add\n",
    "```\n",
    "kornia.augmentation.RandomAffine(degrees=90, shear=10)\n",
    "```\n",
    "to your pipeline, initialize `em.KorniaAugmentationPipeline` with\n",
    "```\n",
    "em.KorniaAugmentationPipeline({\"RandomAffine\":{\"degrees\":90, \"shear\":10}})\n",
    "```"
   ]
  },
  {
   "cell_type": "code",
   "execution_count": null,
   "id": "0bcdb759-fa79-4c37-a5f6-c692688825bf",
   "metadata": {},
   "outputs": [],
   "source": [
    "aug_params = {\n",
    "    \"ColorJiggle\":{\"brightness\":0.1, \"contrast\":0.1, \"hue\":0.05, \"saturation\":0.2},\n",
    "    \"RandomAffine\":{\"degrees\":180, \"shear\":10, \"scale\":(0.25, 1), \"padding_mode\":\"reflection\"},\n",
    "    \"RandomBoxBlur\":{},\n",
    "    \"RandomChannelShuffle\":{},\n",
    "    #\"RandomGaussianNoise\":{\"mean\":0., \"std\":0.05},\n",
    "}\n",
    "aug = em.KorniaAugmentationPipeline(aug_params)"
   ]
  },
  {
   "cell_type": "code",
   "execution_count": null,
   "id": "6cfb4953-e172-43ed-86ee-3b67a5bcdd4c",
   "metadata": {},
   "outputs": [],
   "source": [
    "augmented, _ = aug(flower.unsqueeze(0))\n",
    "em.plot(augmented[0])"
   ]
  },
  {
   "cell_type": "markdown",
   "id": "16424cb4-e93d-43bc-8d17-0ce44664c791",
   "metadata": {},
   "source": [
    "`kornia` is designed for reproducibility, but I've (infrequently) found some versions of some augmentations that don't reproduce correctly. This matters for the causal analysis computations in `electricmayhem`; if a component in your pipeline isn't reproducible then any \"delta\" metrics reported will be wrong (since they rely on taking the difference between otherwise-identical batches with and without the patch).\n",
    "\n",
    "The `em.KorniaAugmentationPipeline.validate()` method will check to make sure identical augmentations will be created during your control steps, and return `True` if your augmentation choices reproduce correctly. The commented-out `RandomGaussianNoise` line above, for example, breaks reproducibility (at least in `kornia==0.7.0`) and should get flagged by the `validate()` method."
   ]
  },
  {
   "cell_type": "code",
   "execution_count": null,
   "id": "66a5e479-bba9-40ab-9f91-e776df1a3352",
   "metadata": {},
   "outputs": [],
   "source": [
    "aug.validate(flower.unsqueeze(0))"
   ]
  },
  {
   "cell_type": "markdown",
   "id": "3360da8f-ea05-4f9a-a14f-d6a2fb0d7f3e",
   "metadata": {},
   "source": [
    "## `em.PerspectiveTilter`\n",
    "\n",
    "This stage has a *much* narrower range of application- wrapping `kornia`'s perspective warping tools to make an image look like it's falling back away from the camera (for example, if you wanted to make an image appear to be off-nadir)."
   ]
  },
  {
   "cell_type": "code",
   "execution_count": null,
   "id": "00312547-5767-4041-890d-3e1eeb716357",
   "metadata": {},
   "outputs": [],
   "source": [
    "tilt = em.PerspectiveTilter()"
   ]
  },
  {
   "cell_type": "code",
   "execution_count": null,
   "id": "c3b5acb6-cd63-45ee-ba3c-e2f1b02734e4",
   "metadata": {},
   "outputs": [],
   "source": [
    "tilted, _ = tilt(flower.unsqueeze(0))\n",
    "em.plot(tilted[0])"
   ]
  },
  {
   "cell_type": "code",
   "execution_count": null,
   "id": "2c60181d-7c31-4990-88d7-73d45495c7f6",
   "metadata": {},
   "outputs": [],
   "source": []
  }
 ],
 "metadata": {
  "kernelspec": {
   "display_name": "Python 3 (ipykernel)",
   "language": "python",
   "name": "python3"
  },
  "language_info": {
   "codemirror_mode": {
    "name": "ipython",
    "version": 3
   },
   "file_extension": ".py",
   "mimetype": "text/x-python",
   "name": "python",
   "nbconvert_exporter": "python",
   "pygments_lexer": "ipython3",
   "version": "3.10.13"
  }
 },
 "nbformat": 4,
 "nbformat_minor": 5
}
