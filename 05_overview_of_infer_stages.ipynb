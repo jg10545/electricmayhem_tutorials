{
 "cells": [
  {
   "cell_type": "markdown",
   "id": "59967f9d-5a43-4d18-ba28-f13e644bc7fa",
   "metadata": {},
   "source": [
    "## Tutorial 05: infer stages\n",
    "\n",
    "Running an image through the model is probably the easiest part of this whole process, so there isn't a ton of code for it in `electricmayhem`.\n",
    "\n",
    "The main class is `em.ModelWrapper` which just inputs a Pytorch model and can be used as a pipeline stage. The object can also handle different training and evaluation models, as well as dictionaries of train and/or eval models (see the next notebook for an example!)."
   ]
  },
  {
   "cell_type": "markdown",
   "id": "31b1ecda-73f0-4445-9d01-5241336a9d98",
   "metadata": {},
   "source": [
    "### YOLO object detectors\n",
    "\n",
    "The specific use case I've worked with most often has been YOLO models, so I've implemented a subclass of the model wrapper, `em.YOLOWrapper`. It adds two things:\n",
    "\n",
    "* Some functions to convert different versions of the YOLO codebase to the same output format\n",
    "* Diagnostic images that will get logged to tensorboard, displaying detections on identical image with and without the patch."
   ]
  },
  {
   "cell_type": "markdown",
   "id": "0e5985ed-5186-4572-9964-fbba6ad232fc",
   "metadata": {},
   "source": [
    "#### YOLOv4\n",
    "\n",
    "At this point in history, the official YOLOv4 implementation still relied on DarkNet. There are unofficial Pytorch conversions out there and they're functional but finicky.\n",
    "\n",
    "The YOLOv4 codebase at https://github.com/Tianxaomo/pytorch-YOLOv4 outputs an unusual format; a list of two tensors:\n",
    "\n",
    "* The first has shape `batch_size, num_boxes, 1, 4]` and contains the bounding boxes is normal coordinates\n",
    "* The second output has shape `[batch_size, num_boxes, num_classes]` provides detection probabilities.\n",
    "\n",
    "To use with `electricmayhem`:\n",
    "\n",
    "```\n",
    "from tool.darknet2pytorch import Darknet\n",
    "model = Darknet(\"path_to_config_file\", inference=True).eval()\n",
    "model.load_weights(\"path_to_weight_file\")\n",
    "\n",
    "yolo = em.YOLOWrapper(model, yolo_version=4)\n",
    "```\n",
    "\n",
    "The stage outputs will be in the YOLOv5 format."
   ]
  },
  {
   "cell_type": "markdown",
   "id": "664841b8-a681-4dbe-b14c-cac86b357082",
   "metadata": {},
   "source": [
    "#### YOLOv5\n",
    "\n",
    "This was the first \"official\" YOLO codebase written in Pytorch. The output is a list with two elements:\n",
    "\n",
    "* The first is a tensor of shape `[batch_size, num_boxes, 5+num_classes]`, with the last index covering box dimensions in xywh pixel format, an overall detection score, and class detection scores.\n",
    "* The second is a list of 3 tensors giving unaggregated results from the different detection heads.\n",
    "\n",
    "Be careful loading the model; by default in inference mode it does some in-place tensor updates that mess up gradients.\n",
    "\n",
    "To use with `electricmayhem`:\n",
    "\n",
    "```\n",
    "from models.yolo import Model\n",
    "# load weights checkpoint to CPU\n",
    "ckpt = torch.load(\"path_to_model_weights\", map_location='cpu')\n",
    "# turn off in-place updates\n",
    "config = ckpt[\"model\"].yaml\n",
    "config[\"inplace\"] = False\n",
    "# initialize model\n",
    "model = Model(config, ch=3, nc=num_classes)\n",
    "# load weights into model\n",
    "csd = ckpt[\"model\"].float().state_dict()\n",
    "model.load_state_dict(csd, strict=False)\n",
    "# swap to eval mode to freeze batchnorm\n",
    "model.eval()\n",
    "\n",
    "yolo = em.YOLOWrapper(model, yolo_version=5)\n",
    "```\n",
    "\n",
    "The stage outputs will be in the YOLOv5 format."
   ]
  },
  {
   "cell_type": "markdown",
   "id": "ed16c717-281e-42d8-87b9-67c312596978",
   "metadata": {},
   "source": [
    "#### Later versions\n",
    "\n",
    "The `ultralytics` library is much more convenient to work with than previous versions and is conda-installable. It does have a **lot** of unnecessary automation, though, which can get in the way if you're doing something weird with it. I've had good luck so far pulling out one of the lower-level objects in the library's API.\n",
    "\n",
    "```\n",
    "import ultralytics\n",
    "yolov8n = ultralytics.YOLO(\"yolov8n.pt\").model.eval()\n",
    "yolo = em.YOLOWrapper(yolov8n, yolo_version=8)\n",
    "```\n",
    "\n",
    "This stage will return results in the YOLOv5 format. Note that YOLOv10 specifically has a different output format not yet implemented in `electricmayhem`."
   ]
  },
  {
   "cell_type": "code",
   "execution_count": null,
   "id": "4639f86c-a978-4538-9ee3-d559d377deb6",
   "metadata": {},
   "outputs": [],
   "source": []
  }
 ],
 "metadata": {
  "kernelspec": {
   "display_name": "Python 3 (ipykernel)",
   "language": "python",
   "name": "python3"
  },
  "language_info": {
   "codemirror_mode": {
    "name": "ipython",
    "version": 3
   },
   "file_extension": ".py",
   "mimetype": "text/x-python",
   "name": "python",
   "nbconvert_exporter": "python",
   "pygments_lexer": "ipython3",
   "version": "3.10.13"
  }
 },
 "nbformat": 4,
 "nbformat_minor": 5
}
