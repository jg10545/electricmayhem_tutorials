{
 "cells": [
  {
   "cell_type": "code",
   "execution_count": null,
   "id": "15363fa3-9dc6-4f24-8507-8b6e6d5070a2",
   "metadata": {},
   "outputs": [],
   "source": [
    "import numpy as np\n",
    "import matplotlib.pyplot as plt\n",
    "import torch\n",
    "import ultralytics\n",
    "import kornia.geometry"
   ]
  },
  {
   "cell_type": "code",
   "execution_count": null,
   "id": "3f0e98d3-d22a-4f78-ad01-ad7f1db78646",
   "metadata": {},
   "outputs": [],
   "source": [
    "import electricmayhem.whitebox as em\n",
    "from electricmayhem.blackbox import BlackBoxPatchTrainer"
   ]
  },
  {
   "cell_type": "code",
   "execution_count": null,
   "id": "b158b41c-362d-4e7b-a4ac-24a5730026d1",
   "metadata": {},
   "outputs": [],
   "source": [
    "COCO_CLASSES = ['person', 'bicycle', 'car', 'motorcycle', 'airplane', 'bus', 'train', 'truck', 'boat',\n",
    "                'traffic light', 'fire hydrant', 'stop sign', 'parking meter', 'bench','bird', 'cat',\n",
    "                'dog', 'horse', 'sheep', 'cow', 'elephant', 'bear', 'zebra', 'giraffe', 'backpack',\n",
    "                'umbrella', 'handbag', 'tie', 'suitcase', 'frisbee', 'skis', 'snowboard', 'sports ball',\n",
    "                 'kite', 'baseball bat', 'baseball glove', 'skateboard', 'surfboard', 'tennis racket',\n",
    "                'bottle', 'wine glass', 'cup', 'fork', 'knife', 'spoon', 'bowl', 'banana', 'apple',\n",
    "                 'sandwich', 'orange', 'broccoli', 'carrot', 'hot dog', 'pizza', 'donut', 'cake', 'chair',\n",
    "                'couch', 'potted plant', 'bed', 'dining table', 'toilet', 'tv', 'laptop', 'mouse', 'remote',\n",
    "                'keyboard', 'cell phone', 'microwave', 'oven', 'toaster', 'sink', 'refrigerator', 'book',\n",
    "                'clock', 'vase', 'scissors', 'teddy bear', 'hair drier','toothbrush']"
   ]
  },
  {
   "cell_type": "code",
   "execution_count": null,
   "id": "4499bfb1-c722-40d6-8ab1-fdc4f28a298a",
   "metadata": {},
   "outputs": [],
   "source": [
    "x = em.load_to_tensor(\"data/toycar/medium_distance_arc/057.png\")\n",
    "em.plot(x)"
   ]
  },
  {
   "cell_type": "code",
   "execution_count": null,
   "id": "4198f563-dd01-4b8b-8395-c30388c0d1aa",
   "metadata": {},
   "outputs": [],
   "source": [
    "import electricmayhem.blackbox\n",
    "electricmayhem.blackbox._augment.augment_image(x).shape"
   ]
  },
  {
   "cell_type": "code",
   "execution_count": null,
   "id": "4e58bc45-68e2-4665-9f1f-862c33650109",
   "metadata": {},
   "outputs": [],
   "source": []
  },
  {
   "cell_type": "code",
   "execution_count": null,
   "id": "8278f81d-e1a3-4cf4-8844-c18b030979f1",
   "metadata": {},
   "outputs": [],
   "source": [
    "model = ultralytics.YOLO(\"yolov8n.pt\").model.eval()"
   ]
  },
  {
   "cell_type": "code",
   "execution_count": null,
   "id": "fb97184d-46ae-4370-b869-3861725e4067",
   "metadata": {},
   "outputs": [],
   "source": [
    "def detect_func(img, return_raw=False, **kwargs):\n",
    "    img = kornia.geometry.transform.resize(img, (640,640))\n",
    "    model_outputs = model(img.unsqueeze(0))[0]\n",
    "    class_probs = model_outputs[:,4:,:]\n",
    "    maxval = torch.max(class_probs).item()\n",
    "    if return_raw:\n",
    "        return [int(maxval>0.25),maxval]\n",
    "    else:\n",
    "        return maxval"
   ]
  },
  {
   "cell_type": "code",
   "execution_count": null,
   "id": "77781e03-fbd3-47f3-b94c-db833e5c1b78",
   "metadata": {},
   "outputs": [],
   "source": [
    "detect_func(x)"
   ]
  },
  {
   "cell_type": "code",
   "execution_count": null,
   "id": "c9d6cf3e-1d6d-4366-9429-8e4ee0e4a7d7",
   "metadata": {},
   "outputs": [],
   "source": []
  },
  {
   "cell_type": "code",
   "execution_count": null,
   "id": "3762a766-2b87-40a2-b203-5e0d16d4e759",
   "metadata": {},
   "outputs": [],
   "source": [
    "mask = torch.zeros_like(x)\n",
    "mask[:,300:600,50:450] += 1\n",
    "em.plot(x*(1-mask) + mask)"
   ]
  },
  {
   "cell_type": "code",
   "execution_count": null,
   "id": "0800ccd2-f813-4239-8aee-0b8c4da27bb9",
   "metadata": {},
   "outputs": [],
   "source": []
  },
  {
   "cell_type": "code",
   "execution_count": null,
   "id": "0372c9f8-d61d-4f82-9d4f-1d920a2c6e37",
   "metadata": {},
   "outputs": [],
   "source": [
    "SAVE_EVERY = 190\n",
    "def eval_func(writer, counter, img, mask, perturbation, **kwargs):\n",
    "    #print(counter % SAVE_EVERY)\n",
    "    if counter % SAVE_EVERY == 0:\n",
    "        pert = kornia.geometry.transform.resize(perturbation, (640,640))\n",
    "        x = img*(1-mask) + mask*pert\n",
    "        detections = model(x.unsqueeze(0))\n",
    "        detections_converted = em._yolo.convert_ultralytics_to_v5_format(detections[0])[0]\n",
    "        fig = em._yolo.plot_detections(x.unsqueeze(0), detections_converted, 0, classnames=COCO_CLASSES)\n",
    "        writer.add_figure(\"detections\", fig, global_step=counter)\n"
   ]
  },
  {
   "cell_type": "code",
   "execution_count": null,
   "id": "3a525c54-292d-4c86-bcbb-f56392ca4355",
   "metadata": {},
   "outputs": [],
   "source": []
  },
  {
   "cell_type": "code",
   "execution_count": null,
   "id": "c0ccdfdb-007e-4b30-8d7f-cd198c5e4f51",
   "metadata": {},
   "outputs": [],
   "source": [
    "d = 120 #80 # 40 #20\n",
    "perturbation = torch.tensor(np.random.uniform(0, 1, size=(3,d,d)).astype(np.float32))\n",
    "foo = perturbation.clone().detach().numpy()\n",
    "trainer = BlackBoxPatchTrainer(\n",
    "    x,\n",
    "    mask,\n",
    "    mask,\n",
    "    detect_func,\n",
    "    \"/media/joe/data/electricmayhem_tutorial_logs/06_d_120_q_10_beta_01/\",\n",
    "    perturbation=perturbation,\n",
    "    num_augments=1, # number of augmentations to test each random direction under\n",
    "    q=10, # number of random directions per step\n",
    "    beta=0.1, #1.0, # RGF smoothing parameter\n",
    "    reduce_mask=False,\n",
    "    #tr_thresh=1, # transform robustness threshold for mask reduction. set high to skip that step for this example\n",
    "    eval_augments=50, # number of random augmentations to use for evaluation\n",
    "    use_scores=True, # use soft outputs of the model rather than hard decisions\n",
    "    eval_func=eval_func,\n",
    "    extra_params={\"perturbation_size\":d},\n",
    "    aug_params={\"scale\":(0.99,1.01), \"blur\":[0], \"rotate\":0, \"angle\":0, \"translate\":0, \"gamma\":(1,1.1),\n",
    "               \"perspective_scale\":0},\n",
    "    subset_frac=0., # 0\n",
    ")"
   ]
  },
  {
   "cell_type": "code",
   "execution_count": null,
   "id": "3aa5ecc4-2313-4608-80d1-3ea9e1f281ec",
   "metadata": {},
   "outputs": [],
   "source": [
    "#trainer.fit(budget=10000, lrs=[1e5, 1e4, 1000., 100., 10., 1.])\n",
    "trainer.fit(budget=1000000, lrs=[1e5, 1e4, 1000., 100., 10., 1.])"
   ]
  },
  {
   "cell_type": "code",
   "execution_count": null,
   "id": "2e324324-82bc-4e35-b5a7-8d3dbe3ee423",
   "metadata": {},
   "outputs": [],
   "source": []
  },
  {
   "cell_type": "code",
   "execution_count": null,
   "id": "53b19be9-9427-49e1-acb0-5971e12e7719",
   "metadata": {},
   "outputs": [],
   "source": []
  },
  {
   "cell_type": "code",
   "execution_count": null,
   "id": "64e33e35-92cc-4670-806a-3100d83695dc",
   "metadata": {},
   "outputs": [],
   "source": []
  },
  {
   "cell_type": "code",
   "execution_count": null,
   "id": "78d31bf4-734e-4845-b09e-34c80ca7e3d6",
   "metadata": {},
   "outputs": [],
   "source": []
  }
 ],
 "metadata": {
  "kernelspec": {
   "display_name": "Python 3 (ipykernel)",
   "language": "python",
   "name": "python3"
  },
  "language_info": {
   "codemirror_mode": {
    "name": "ipython",
    "version": 3
   },
   "file_extension": ".py",
   "mimetype": "text/x-python",
   "name": "python",
   "nbconvert_exporter": "python",
   "pygments_lexer": "ipython3",
   "version": "3.10.15"
  }
 },
 "nbformat": 4,
 "nbformat_minor": 5
}
