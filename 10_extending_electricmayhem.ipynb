{
 "cells": [
  {
   "cell_type": "code",
   "execution_count": null,
   "id": "9beed2b7-b135-421b-bf4f-d2e64e8606a7",
   "metadata": {},
   "outputs": [],
   "source": []
  },
  {
   "cell_type": "markdown",
   "id": "fd0690e7-d843-4123-a97a-d058af459c45",
   "metadata": {},
   "source": [
    "# Extending `electricmayhem`\n",
    "\n",
    "In this example notebook we'll write a new pipeline stage. Let's write one that inputs an image and randomly rotates it 0, 90, 180, or 270 degrees.\n",
    "\n",
    "\n",
    "## Writing a custom pipeline stage\n",
    "\n",
    "\n",
    "Every pipeline stage should subclass `electricmayhem._pipeline.PipelineBase`, which in turn subclasses `torch.nn.Module`. \n",
    "\n",
    "### Required steps\n",
    "\n",
    "* There should be an `__init__()` method that starts by calling `super().__init__()`. This sets up all the pytorch infrastructure__()`. \n",
    "* Any keyword arguments you need to re-initialize agee step should be captured in a JSON/YAML-serializable dict in `self.params`.\n",
    "* There should be a `forward()` or `_forward_single()` method that does a few things:\n",
    "  * If called with `control=True`, runs a control batch (same configuration as previous batch but without the patch)\n",
    "  * If called with `evaluate=True`, runs an evaluation batch (for example possibly using holdout images or a separate model)\n",
    "  * If a dictionary of paramaters is passed to the `params` kwarg, overrules any randomly-sampled parameters with these values.\n",
    "  * Can input `**kwargs`\n",
    "  * Returns a 2-tuple containing that stages' output and the input `kwargs` dictionary (possible with more information added to it)\n",
    "  * If using `_forward_single()` to apply a transformation to multiple patches, there should be an additional `key` kwarg that can input the patch name (example below).\n",
    "* There should be a `get_last_sample_as_dict()` method. It should return any stochastic parameters sampled for the last batch as a dictionary containing lists or 1D `numpy` arrays of length `batchsize`"
   ]
  },
  {
   "cell_type": "markdown",
   "id": "88614f63-7ee8-49ca-a704-ea82c379e2c7",
   "metadata": {},
   "source": [
    "### Optional steps\n",
    "\n",
    "* Overwrite the `get_description()` method to generate a more useful markdown description for MLFlow.\n",
    "* Overwrite the `log_vizualizations()` method with any diagnostics that would be useful to log to TensorBoard. This method will get called whenever `pipeline.evaluate()` is run.\n",
    "* Overwrite the `validate()` method to check for anything specific that could go wrong with that step. When the user calls `Pipeline.validate()` it will run the `validate()` method for each step. Use the `logging` library to record check results at the `info` or `warning` level."
   ]
  },
  {
   "cell_type": "markdown",
   "id": "5f13b80e-2777-4350-b5d6-700c5b29606e",
   "metadata": {},
   "source": [
    "### Other things to know\n",
    "\n",
    "* If you add an attribute to the object that includes tensors or modules, whether it gets copied to the gpu when you call `.cuda()` depends on how you add it. If you want a tensor to get copied automatically, use `torch.nn.Parameter` or (for a container of them) `torch.nn.ParameterDict`. Modules can be added directly or (for a container of them) `torch.nn.ModuleDict`."
   ]
  },
  {
   "cell_type": "markdown",
   "id": "1b7cf44b-334d-46de-b613-a2bb2a702f35",
   "metadata": {},
   "source": [
    "### Toy example\n",
    "\n",
    "```\n",
    "class MyPipelineStage(PipelineBase):\n",
    "    def __init__(self, foo, bar):\n",
    "        super().__init__()\n",
    "        self.params = {\"foo\":foo, \"bar\":bar}\n",
    "        \n",
    "    def forward(self, x, control=False, evaluate=False, params={}, **kwargs):\n",
    "        <stuff here>\n",
    "        y = f(x)\n",
    "        return y, kwargs\n",
    "        \n",
    "    def get_last_sample_as_dict(self):\n",
    "        return dict(<some stuff>)\n",
    "        \n",
    "    def log_vizualizations(self, x, x_control, writer, step, logging_to_mlflow=False):\n",
    "        \"\"\"\n",
    "        \"\"\"\n",
    "        writer.add_image(\"name_for_the_tensorboard_log\", <some stuff>, global_step=step,\n",
    "                        logging_to_mlflow=logging_to_mlflow)\n",
    "         \n",
    "    def get_description(self):\n",
    "        return \"**MyPipelineStage** and some details that would be helpful in mlflow\"\n",
    "```"
   ]
  },
  {
   "cell_type": "code",
   "execution_count": null,
   "id": "12e0c09d-5b0a-4326-814c-f0ed55f9f217",
   "metadata": {},
   "outputs": [],
   "source": [
    "import numpy as np\n",
    "import torch\n",
    "import electricmayhem.whitebox as em"
   ]
  },
  {
   "cell_type": "code",
   "execution_count": null,
   "id": "cdfcbe73-7e65-4578-96ab-22dd5100efd9",
   "metadata": {},
   "outputs": [],
   "source": [
    "class RightAngleRotater(em._pipeline.PipelineBase):\n",
    "    \"\"\"\n",
    "    Pipeline stage that rotates images randomly by 0, 90, 180, or 270 degrees\n",
    "    \"\"\"\n",
    "    def __init__(self):\n",
    "        super().__init__()\n",
    "        # no parameters for this stage\n",
    "        self.params = {}\n",
    "        self.lastsample = []\n",
    "\n",
    "    def sample(self, N):\n",
    "        return np.random.randint(0,4, size=N)\n",
    "    \n",
    "    def forward(self, x, control=False, evaluate=False, params={}, **kwargs):\n",
    "        N = x.shape[0]\n",
    "\n",
    "        # If user passes angles explicitly, override sampling\n",
    "        if \"angle\" in params:\n",
    "            angles = params[\"angles\"]\n",
    "        # if it's a control batch, use the angles we used last time\n",
    "        elif control:\n",
    "            angles = self.lastsample\n",
    "        # otherwise, sample a random angle for each element in the batch\n",
    "        else:\n",
    "            angles = self.sample(N)\n",
    "        # store this sample in case the next batch is a control batch\n",
    "        self.lastsample = angles\n",
    "\n",
    "        # rotate each batch image separately and stack back into a batch\n",
    "        y = torch.stack([\n",
    "            torch.rot90(x[i], k=angles[i], dims=[1,2]) for i in range(N)\n",
    "        ], 0)\n",
    "        \n",
    "        return y, kwargs\n",
    "        \n",
    "    def get_last_sample_as_dict(self):\n",
    "        return {\"angle\":[int(x) for x in self.lastsample]}\n",
    "        \n",
    "    def log_vizualizations(self, x, x_control, writer, step, logging_to_mlflow=False):\n",
    "        \"\"\"\n",
    "        Not sure we really need a vizualization for this but we'll add one just to say we did\n",
    "        \"\"\"\n",
    "        rotated = self(x)\n",
    "        writer.add_image(\"rotated_image\", rotated[0], global_step=step,\n",
    "                        logging_to_mlflow=logging_to_mlflow)\n",
    "         "
   ]
  },
  {
   "cell_type": "code",
   "execution_count": null,
   "id": "5888ebf7-8798-4417-a856-50de0768dc94",
   "metadata": {},
   "outputs": [],
   "source": [
    "rotater = RightAngleRotater()"
   ]
  },
  {
   "cell_type": "code",
   "execution_count": null,
   "id": "37e3edc8-c506-45b0-9344-1c8cd5d067b5",
   "metadata": {},
   "outputs": [],
   "source": [
    "img = em.load_to_tensor(\"data/flower2.png\")[:,:240,:240]"
   ]
  },
  {
   "cell_type": "code",
   "execution_count": null,
   "id": "e2dddb69-75c2-41a8-80c4-6fa87d91af13",
   "metadata": {},
   "outputs": [],
   "source": [
    "img_batch = torch.stack([img for _ in range(10)], 0)\n",
    "img_batch.shape"
   ]
  },
  {
   "cell_type": "code",
   "execution_count": null,
   "id": "5a03118b-41a6-454f-9103-7a34598cf409",
   "metadata": {},
   "outputs": [],
   "source": [
    "rotated, kwargs = rotater(img_batch)\n",
    "rotated.shape"
   ]
  },
  {
   "cell_type": "code",
   "execution_count": null,
   "id": "a4900a63-21a9-474c-bc78-c849b3bcd93d",
   "metadata": {},
   "outputs": [],
   "source": [
    "em.plot(rotated[2])"
   ]
  },
  {
   "cell_type": "markdown",
   "id": "fd21ef51-4637-4a8a-9190-da2c3b70b7d8",
   "metadata": {},
   "source": []
  },
  {
   "cell_type": "code",
   "execution_count": null,
   "id": "5f56edcb-3419-40f7-abb1-23cdcad477d5",
   "metadata": {},
   "outputs": [],
   "source": [
    "import json\n",
    "print(json.dumps(rotater.get_last_sample_as_dict()))"
   ]
  },
  {
   "cell_type": "code",
   "execution_count": null,
   "id": "c77ed6a9-ea3c-49d1-bb12-61d7accfc236",
   "metadata": {},
   "outputs": [],
   "source": []
  },
  {
   "cell_type": "markdown",
   "id": "1284eaad-9c81-4685-aae8-1435a0237e5d",
   "metadata": {},
   "source": [
    "## Adding validation checks\n",
    "\n",
    "An obvious limitation of this pipeline stage is that it won't work with non-square images, since it won't be able to rotate them 90 or 270 degrees and stack them on top of images rotated 0 or 180 degrees. Whenever there are easy-to-check failure cases, or mistakes you find yourself making a lot while prototyping, I'd encourage you to implement a check by writing a `validate()` method for the class.\n",
    "\n",
    "`validate()` should:\n",
    "\n",
    "* input a batch\n",
    "* return `True` if the batch passes your tests and `False` otherwise\n",
    "* use `logging` to let the user know what went wrong.\n",
    "\n",
    "Once a user has assembled stages into a pipeline, they can call `pipeline.validate()` and it will sequentially check each stage."
   ]
  },
  {
   "cell_type": "code",
   "execution_count": null,
   "id": "1eab4094-aed8-4a64-9cde-5ef2e70b0cfe",
   "metadata": {},
   "outputs": [],
   "source": [
    "import logging\n",
    "\n",
    "class RightAngleRotaterWithValidation(RightAngleRotater):\n",
    "    def validate(self, x):\n",
    "        N, C, H, W = x.shape\n",
    "        if H != W:\n",
    "            logging.warning(f\"{self.__class__.__name__}: image batch isn't square; can't rotate 90 degrees and stack into a batch\")\n",
    "            return False\n",
    "        return True"
   ]
  },
  {
   "cell_type": "markdown",
   "id": "0dccd74f-1cf6-445f-83e7-b2666b803588",
   "metadata": {},
   "source": [
    "Let's reload our test image without clipping it to be square:"
   ]
  },
  {
   "cell_type": "code",
   "execution_count": null,
   "id": "41165455-b82f-432a-904a-16a78c1ae801",
   "metadata": {},
   "outputs": [],
   "source": [
    "img = em.load_to_tensor(\"data/flower2.png\")\n",
    "img.shape"
   ]
  },
  {
   "cell_type": "markdown",
   "id": "21419ca1-67f5-4c20-a674-99258dbc6da9",
   "metadata": {},
   "source": [
    "Now make a simple `Pipeline` object using our `RightAngleRotaterWithValidation` and use the test image to validate it:"
   ]
  },
  {
   "cell_type": "code",
   "execution_count": null,
   "id": "9a80468e-be2b-4bcb-8186-5eb23852c63e",
   "metadata": {},
   "outputs": [],
   "source": [
    "pipeline = em.PatchScroller() + RightAngleRotaterWithValidation() + em.PatchResizer((128,128))\n",
    "pipeline.validate(img)"
   ]
  },
  {
   "cell_type": "markdown",
   "id": "5b0eb4c3-0e93-4bac-939d-534f510efd5f",
   "metadata": {},
   "source": [
    "Rearranging stages in the pipeline can fix the problem:"
   ]
  },
  {
   "cell_type": "code",
   "execution_count": null,
   "id": "0a656662-8ccb-4d6c-a95b-86af3a7c8de6",
   "metadata": {},
   "outputs": [],
   "source": [
    "pipeline2 = em.PatchScroller() + em.PatchResizer((128,128)) + RightAngleRotaterWithValidation() \n",
    "pipeline2.validate(img)"
   ]
  },
  {
   "cell_type": "code",
   "execution_count": null,
   "id": "f3736fb7-168c-482b-b67e-3d37bce80020",
   "metadata": {},
   "outputs": [],
   "source": []
  },
  {
   "cell_type": "markdown",
   "id": "43a26e3e-3197-4dab-ab37-57b419d8d6b6",
   "metadata": {},
   "source": [
    "## Writing a `create` stage\n",
    "\n",
    "Now let's make it a bit more complicated- if we want this pipeline stage to be used as a \"create\" step that modifies patches before implanting them, then we'll need to handle the case where multiple patches are being trained at once- so the first input to `forward` could be a batch of patches, or a dictionary of batches.\n",
    "\n",
    "If we don't overwrite the `forward` function, the one in `PipelineBase` will manage both cases and run one or several patches through a `_forward_single()` method. `_forward_single()` will work just like `forward()` did before, but accept an additional `key` argument that tells it which patch it's looking at. This way, when sampled values are exported they can be referenced to the corresponding patch.\n",
    "\n",
    "The `PipelineBase.forward()` method will also look for a `\"keys\"` entry in the `params` dictionary and use it to decide which patches to apply to, so you can configure `create` stages to only apply to some of the patches.\n",
    "\n",
    "The `log_visualizations()` and `validate()` methods will be a bit more complicated to handle the two cases."
   ]
  },
  {
   "cell_type": "code",
   "execution_count": null,
   "id": "c2b610aa-060a-4936-bdae-40075c640f97",
   "metadata": {},
   "outputs": [],
   "source": [
    "class RightAngleRotaterV2(em._pipeline.PipelineBase):\n",
    "    \"\"\"\n",
    "    Pipeline stage that rotates images randomly by 0, 90, 180, or 270 degrees\n",
    "    \"\"\"\n",
    "    def __init__(self, keys=None):\n",
    "        \"\"\"\n",
    "        :keys: None or list of strings; which patches to apply rotation to. If None apply to all patches.\n",
    "        \"\"\"\n",
    "        super().__init__()\n",
    "        self.params = {}\n",
    "        if keys is not None:\n",
    "            self.params[\"keys\"] = keys\n",
    "        self.lastsample = {}\n",
    "\n",
    "    def sample(self, N):\n",
    "        return np.random.randint(0,4, size=N)\n",
    "        \n",
    "    def _rotate(self, x, angles):\n",
    "        N = x.shape[0]\n",
    "        rotated = torch.stack([\n",
    "            torch.rot90(x[i], k=angles[i], dims=[1,2]) for i in range(N)\n",
    "        ], 0)\n",
    "        return rotated\n",
    "\n",
    "    def _forward_single(self, x, control=False, evaluate=False, params={}, key=None, **kwargs):\n",
    "        N = x.shape[0]\n",
    "        if key is None:\n",
    "            paramname = \"angle\"\n",
    "        else:\n",
    "            paramname = f\"angle_{key}\"\n",
    "        if control:\n",
    "            angles = self.lastsample[paramname]\n",
    "        else:\n",
    "            angles = params.get(paramname, self.sample(N))\n",
    "            self.lastsample[paramname] = angles\n",
    "        rotated = self._rotate(x, angles)\n",
    "        return rotated, kwargs\n",
    "        \n",
    "    def get_last_sample_as_dict(self):\n",
    "        return {k:self.lastsample[k].tolist() for k in self.lastsample}\n",
    "        \n",
    "    def log_vizualizations(self, x, x_control, writer, step, logging_to_mlflow=False, suffix=None):\n",
    "        \"\"\"\n",
    "        Not sure we really need a vizualization for this but we'll add one just to say we did\n",
    "        \"\"\"\n",
    "        # SINGLE PATCH CASE\n",
    "        if isinstance(x, torch.Tensor):\n",
    "            rotated = self(x)\n",
    "            if isinstance(suffix, str):\n",
    "                log_name = f\"rotated_image_{suffix}\"\n",
    "            else:\n",
    "                log_name = \"rotated_image\"\n",
    "            writer.add_image(log_name, rotated[0], global_step=step,\n",
    "                        logging_to_mlflow=logging_to_mlflow)\n",
    "        # MULTI PATCH CASE\n",
    "        else:\n",
    "            for k in x:\n",
    "                self.log_vizualizations(x[k], x_control[k], writer, step, logging_to_mlflow, suffix=k)\n",
    "\n",
    "    def validate(self, x, key=\"\"):\n",
    "        if isinstance(x, torch.Tensor):\n",
    "            N, C, H, W = x.shape\n",
    "            if H != W:\n",
    "                logging.warning(f\"{self.__class__.__name__}: {key} image batch isn't square; can't rotate 90 degrees and stack into a batch\")\n",
    "                return False\n",
    "            return True\n",
    "        else:\n",
    "            if \"keys\" in self.params:\n",
    "                keys = self.params[\"keys\"]\n",
    "            else:\n",
    "                keys = list(x.keys())\n",
    "            all_pass = True\n",
    "            for k in keys:\n",
    "                patch_val = self.validate(x[k], key=k)\n",
    "                if not patch_val:\n",
    "                    all_pass = False\n",
    "            return all_pass\n",
    "\n"
   ]
  },
  {
   "cell_type": "markdown",
   "id": "34d4d01b-a021-4f56-beeb-01c91392412e",
   "metadata": {},
   "source": [
    "Let's test a multipatch case with one square and one rectangular patch:"
   ]
  },
  {
   "cell_type": "code",
   "execution_count": null,
   "id": "6ecd98fc-7065-44aa-a7ca-c1c2f927a581",
   "metadata": {},
   "outputs": [],
   "source": [
    "patches = {\n",
    "    \"square\":em.load_to_tensor(\"data/flower2.png\")[:,:240,:240],\n",
    "    \"rect\":em.load_to_tensor(\"data/flower2.png\")\n",
    "}"
   ]
  },
  {
   "cell_type": "markdown",
   "id": "d167f0cf-2a63-4f45-aed2-69646d7104eb",
   "metadata": {},
   "source": [
    "Predictably we'll get a nastygram when we try validating this:"
   ]
  },
  {
   "cell_type": "code",
   "execution_count": null,
   "id": "55e7cc32-645b-4552-8550-3829712d4cf5",
   "metadata": {},
   "outputs": [],
   "source": [
    "pipeline = em.PatchScroller() + RightAngleRotaterV2() + em.PatchResizer((128,128))\n",
    "pipeline.validate(patches)"
   ]
  },
  {
   "cell_type": "markdown",
   "id": "bf8d516d-2639-4aa6-af80-43e8ce20e128",
   "metadata": {},
   "source": [
    "Since we added an option to choose which patches the rotater applies to, we could define the same pipeline and tell it to skip over the rectangular one:"
   ]
  },
  {
   "cell_type": "code",
   "execution_count": null,
   "id": "2dfd43b7-2241-467c-8eae-f56f6f632f6c",
   "metadata": {},
   "outputs": [],
   "source": [
    "pipeline = em.PatchScroller() + RightAngleRotaterV2(keys=[\"square\"]) + em.PatchResizer((128,128))\n",
    "pipeline.validate(patches)"
   ]
  },
  {
   "cell_type": "code",
   "execution_count": null,
   "id": "9b29d3fe-29a4-43d9-b1af-05bf33913b79",
   "metadata": {},
   "outputs": [],
   "source": [
    "patch_batch = {k:patches[k].unsqueeze(0) for k in patches}\n",
    "output, _ = pipeline(patch_batch)"
   ]
  },
  {
   "cell_type": "code",
   "execution_count": null,
   "id": "a57f827b-430f-4e1d-a53e-4cbe74327c98",
   "metadata": {},
   "outputs": [],
   "source": [
    "[output[k].shape for k in output]"
   ]
  },
  {
   "cell_type": "code",
   "execution_count": null,
   "id": "6ac1f0db-cf5e-46f2-92a7-12e45e558641",
   "metadata": {},
   "outputs": [],
   "source": []
  },
  {
   "cell_type": "code",
   "execution_count": null,
   "id": "34ba8041-6076-4285-a13d-476b564cbc49",
   "metadata": {},
   "outputs": [],
   "source": [
    "em.plot(output[\"rect\"].squeeze(0))"
   ]
  },
  {
   "cell_type": "code",
   "execution_count": null,
   "id": "bcfd468f-c67f-4f39-92db-3bb68b6e090f",
   "metadata": {},
   "outputs": [],
   "source": [
    "em.plot(output[\"square\"].squeeze(0))"
   ]
  },
  {
   "cell_type": "code",
   "execution_count": null,
   "id": "1f1804d7-3bf3-436c-b123-186b69760283",
   "metadata": {},
   "outputs": [],
   "source": []
  }
 ],
 "metadata": {
  "kernelspec": {
   "display_name": "Python 3 (ipykernel)",
   "language": "python",
   "name": "python3"
  },
  "language_info": {
   "codemirror_mode": {
    "name": "ipython",
    "version": 3
   },
   "file_extension": ".py",
   "mimetype": "text/x-python",
   "name": "python",
   "nbconvert_exporter": "python",
   "pygments_lexer": "ipython3",
   "version": "3.10.13"
  }
 },
 "nbformat": 4,
 "nbformat_minor": 5
}
