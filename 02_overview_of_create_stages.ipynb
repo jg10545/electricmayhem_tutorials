{
 "cells": [
  {
   "cell_type": "markdown",
   "id": "73890ef6-059c-4294-9d35-d79211a0000a",
   "metadata": {},
   "source": [
    "# Tutorial 02: overview of **create** stages\n",
    "\n",
    "Let's do a quick run-through of stages we might apply to a patch before implanting in an image.\n",
    "\n",
    "All of these stages can input a tensor containing a batch of patches, or a dictionary of tensors for the multi-patch case."
   ]
  },
  {
   "cell_type": "code",
   "execution_count": null,
   "id": "6937a30d-17dd-4e50-bdaa-27ee9b68693b",
   "metadata": {},
   "outputs": [],
   "source": [
    "import electricmayhem.whitebox as em"
   ]
  },
  {
   "cell_type": "markdown",
   "id": "44a7d131-c641-416a-b3d4-9627d234ec75",
   "metadata": {},
   "source": [
    "Loading a test image..."
   ]
  },
  {
   "cell_type": "code",
   "execution_count": null,
   "id": "cf4132e5-11b3-422a-95fe-a51f7fdd7dc0",
   "metadata": {},
   "outputs": [],
   "source": [
    "flower = em.load_to_tensor(\"data/flower2.png\")\n",
    "em.plot(flower)"
   ]
  },
  {
   "cell_type": "code",
   "execution_count": null,
   "id": "5e85837a-d5e6-4cff-8e12-50bad92baf1c",
   "metadata": {},
   "outputs": [],
   "source": []
  },
  {
   "cell_type": "markdown",
   "id": "e9213947-9c1a-497a-ace3-9c4a90613ada",
   "metadata": {},
   "source": [
    "## Resizing\n",
    "\n",
    "Depending on how you're implanting the patch you may want to resize it first:"
   ]
  },
  {
   "cell_type": "code",
   "execution_count": null,
   "id": "861996ab-9455-44a3-b814-1f73fbbe00e3",
   "metadata": {},
   "outputs": [],
   "source": [
    "resize = em.PatchResizer((20,20))"
   ]
  },
  {
   "cell_type": "code",
   "execution_count": null,
   "id": "41b75189-2250-4b67-8993-dbe5ff416883",
   "metadata": {},
   "outputs": [],
   "source": [
    "resized, _ = resize(flower.unsqueeze(0))\n",
    "em.plot(resized)"
   ]
  },
  {
   "cell_type": "code",
   "execution_count": null,
   "id": "bc9f26c9-b633-4ffc-bf3b-158db8ca1aca",
   "metadata": {},
   "outputs": [],
   "source": []
  },
  {
   "cell_type": "markdown",
   "id": "783626d8-383f-4e6d-bb12-e642db5c63b5",
   "metadata": {},
   "source": [
    "## Stacking\n",
    "\n",
    "For use cases where a black-and-white patch is being implanted in an RGB images."
   ]
  },
  {
   "cell_type": "code",
   "execution_count": null,
   "id": "97818a11-4b87-4601-8aa8-7bd111ff16e3",
   "metadata": {},
   "outputs": [],
   "source": [
    "stacker = em.PatchStacker(3)"
   ]
  },
  {
   "cell_type": "code",
   "execution_count": null,
   "id": "9efa94d4-8f6e-4f1b-ba98-bd3a9b4c5e6e",
   "metadata": {},
   "outputs": [],
   "source": [
    "stacked, _ = stacker(flower[:1,:,:].unsqueeze(0))\n",
    "print(stacked.shape)\n",
    "em.plot(stacked)"
   ]
  },
  {
   "cell_type": "code",
   "execution_count": null,
   "id": "1a384ec6-3983-4a86-82b7-3edacdc64e4b",
   "metadata": {},
   "outputs": [],
   "source": []
  },
  {
   "cell_type": "markdown",
   "id": "25989703-aab7-4c0f-b413-73a37f7c8339",
   "metadata": {},
   "source": [
    "## Discouraging patches from becoming inversions\n",
    "\n",
    "It's easy for decoy patches to wind up turning into pictures of the target class. Some tricks we can apply that modify the patch if we want to avoid that:"
   ]
  },
  {
   "cell_type": "markdown",
   "id": "ddb87922-7af7-45ee-b6fd-fc95d6dce1f9",
   "metadata": {},
   "source": [
    "Make a large patch by tiling a small patch:"
   ]
  },
  {
   "cell_type": "code",
   "execution_count": null,
   "id": "609e6c8f-4e0a-4aae-b1b7-68d8460b8c53",
   "metadata": {},
   "outputs": [],
   "source": [
    "tiler = em.PatchTiler((640,480))"
   ]
  },
  {
   "cell_type": "code",
   "execution_count": null,
   "id": "f01f52c2-32ae-4129-9a10-b3f4cccb01e2",
   "metadata": {},
   "outputs": [],
   "source": [
    "tiled, _ = tiler(flower.unsqueeze(0))\n",
    "em.plot(tiled)"
   ]
  },
  {
   "cell_type": "markdown",
   "id": "a6172be1-73f6-4313-a005-972c8aa5b291",
   "metadata": {},
   "source": [
    "Filter out low-frequency Fourier components during training steps:"
   ]
  },
  {
   "cell_type": "code",
   "execution_count": null,
   "id": "3af1679c-0b6a-404b-918d-4404e5513815",
   "metadata": {},
   "outputs": [],
   "source": [
    "highpass = em.HighPassFilter(limit=25)"
   ]
  },
  {
   "cell_type": "code",
   "execution_count": null,
   "id": "b3c17cab-7951-4326-a852-df782c068c56",
   "metadata": {},
   "outputs": [],
   "source": [
    "filtered, _ = highpass(flower.unsqueeze(0))\n",
    "em.plot(filtered)"
   ]
  },
  {
   "cell_type": "markdown",
   "id": "4c07365f-1942-4937-b394-113cdfc2b5cc",
   "metadata": {},
   "source": [
    "Randomly translate the patch with toroidal boundary conditions during train steps:"
   ]
  },
  {
   "cell_type": "code",
   "execution_count": null,
   "id": "7bf0d34b-224f-4f9d-b7bf-53ecb0978409",
   "metadata": {},
   "outputs": [],
   "source": [
    "scroller = em.PatchScroller()"
   ]
  },
  {
   "cell_type": "code",
   "execution_count": null,
   "id": "3ede35a0-96d3-47ee-8ac6-4f49d052e7fe",
   "metadata": {},
   "outputs": [],
   "source": [
    "scrolled, _ = scroller(flower.unsqueeze(0))\n",
    "em.plot(scrolled)"
   ]
  },
  {
   "cell_type": "code",
   "execution_count": null,
   "id": "1cfd77f5-e21e-49d8-8bd7-17e202f6762a",
   "metadata": {},
   "outputs": [],
   "source": []
  },
  {
   "cell_type": "markdown",
   "id": "f5f3698c-6a07-4088-9be3-7291fe2ad1ec",
   "metadata": {},
   "source": [
    "## Adding noise during training\n",
    "\n",
    "The paper *Frequency Domain Model Augmentation for Adversarial Attack* by Long *et al* (2022) only discusses digital attacks, but it's straightforward to apply to patches as well:"
   ]
  },
  {
   "cell_type": "code",
   "execution_count": null,
   "id": "47386565-336d-4805-ba08-df0005b58663",
   "metadata": {},
   "outputs": [],
   "source": [
    "ssa = em.SpectrumSimulationAttack()"
   ]
  },
  {
   "cell_type": "code",
   "execution_count": null,
   "id": "bf54733c-7026-4624-90d9-b1d70fea1f32",
   "metadata": {},
   "outputs": [],
   "source": [
    "noised, _ = ssa(flower.unsqueeze(0))\n",
    "em.plot(noised)"
   ]
  },
  {
   "cell_type": "code",
   "execution_count": null,
   "id": "66c8e9a9-d10a-45db-b240-81f717820ceb",
   "metadata": {},
   "outputs": [],
   "source": []
  },
  {
   "cell_type": "code",
   "execution_count": null,
   "id": "e8778102-3392-4039-8d03-5dfaadd2ee3d",
   "metadata": {},
   "outputs": [],
   "source": []
  },
  {
   "cell_type": "markdown",
   "id": "cad352fe-f22d-47ae-8d90-dd43285c30e4",
   "metadata": {},
   "source": [
    "## Soft-proofing\n",
    "\n",
    "Off-the-shelf color management tools aren't differentiable but we can still apply them during evaluation steps. If you build or download an ICC profile for your printer, it's straightforward to simulate what the patch would look like printed out. This can be helpful for digitally evaluating methods like NPS loss."
   ]
  },
  {
   "cell_type": "code",
   "execution_count": null,
   "id": "593171cd-c371-4372-8bbc-5476cc57f3b5",
   "metadata": {},
   "outputs": [],
   "source": [
    "proofer = em.SoftProofer(\"data/profile.icc\")"
   ]
  },
  {
   "cell_type": "code",
   "execution_count": null,
   "id": "bda94f98-4bd0-41f2-b366-e46a09b24be9",
   "metadata": {},
   "outputs": [],
   "source": [
    "proofed, _ = proofer(flower.unsqueeze(0), evaluate=True)\n",
    "em.plot(proofed)"
   ]
  },
  {
   "cell_type": "code",
   "execution_count": null,
   "id": "6639acda-5ceb-485a-a7dc-78bc14d9eb5a",
   "metadata": {},
   "outputs": [],
   "source": []
  },
  {
   "cell_type": "code",
   "execution_count": null,
   "id": "fb88b6c9-bb50-4b43-b807-1a279bf3d765",
   "metadata": {},
   "outputs": [],
   "source": []
  }
 ],
 "metadata": {
  "kernelspec": {
   "display_name": "Python 3 (ipykernel)",
   "language": "python",
   "name": "python3"
  },
  "language_info": {
   "codemirror_mode": {
    "name": "ipython",
    "version": 3
   },
   "file_extension": ".py",
   "mimetype": "text/x-python",
   "name": "python",
   "nbconvert_exporter": "python",
   "pygments_lexer": "ipython3",
   "version": "3.10.13"
  }
 },
 "nbformat": 4,
 "nbformat_minor": 5
}
